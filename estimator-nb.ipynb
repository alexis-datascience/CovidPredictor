{
 "cells": [
  {
   "cell_type": "code",
   "execution_count": null,
   "metadata": {
    "collapsed": true
   },
   "outputs": [],
   "source": [
    "import urllib.request\n",
    "import json\n",
    "\n",
    "url = 'https://opendata.ecdc.europa.eu/covid19/casedistribution/json/'\n",
    "jsonBytes = urllib.request.urlopen(url).read()\n",
    "jsonText = jsonBytes.decode(\"utf-8\")\n",
    "jsonData = json.loads(jsonText)\n",
    "\n",
    "countries = []\n",
    "for row in jsonData['records']:\n",
    "    if not row['countriesAndTerritories'] in countries:\n",
    "        countries.append(row['countriesAndTerritories'])\n",
    "\n",
    "print (countries)\n"
   ]
  }
 ],
 "metadata": {
  "kernelspec": {
   "display_name": "Python 3",
   "language": "python",
   "name": "python3"
  },
  "language_info": {
   "codemirror_mode": {
    "name": "ipython",
    "version": 2
   },
   "file_extension": ".py",
   "mimetype": "text/x-python",
   "name": "python",
   "nbconvert_exporter": "python",
   "pygments_lexer": "ipython2",
   "version": "2.7.6"
  }
 },
 "nbformat": 4,
 "nbformat_minor": 0
}